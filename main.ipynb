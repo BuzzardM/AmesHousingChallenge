{
 "cells": [
  {
   "cell_type": "markdown",
   "source": [
    "# Exercise 1\n",
    "Provide a table with descriptive statistics for all included variables and check:\n",
    "- Classes of each of the variables (e.g. factors or continuous variables).\n",
    "- Descriptive/summary statistics for all continuous variables (e.g. mean, SD, range) and factor variables (e.g. frequencies).\n",
    "- Explore missing values"
   ],
   "metadata": {
    "collapsed": false,
    "pycharm": {
     "name": "#%% md\n"
    }
   }
  },
  {
   "cell_type": "code",
   "execution_count": null,
   "outputs": [],
   "source": [],
   "metadata": {
    "collapsed": false,
    "pycharm": {
     "name": "#%%\n"
    }
   }
  },
  {
   "cell_type": "markdown",
   "source": [
    "# Exercise 2\n",
    "There a several missing values in the dataset, which need to be tackled before we can\n",
    "proceed with the rest of the analysis. There are many ways to impute missing values,\n",
    "but for now, impute missing values as follows:\n",
    "- Use the median for numeric variables\n",
    "- Use the label \"100\" in all factor variables"
   ],
   "metadata": {
    "collapsed": false,
    "pycharm": {
     "name": "#%% md\n"
    }
   }
  },
  {
   "cell_type": "code",
   "execution_count": null,
   "outputs": [],
   "source": [],
   "metadata": {
    "collapsed": false,
    "pycharm": {
     "name": "#%%\n"
    }
   }
  },
  {
   "cell_type": "markdown",
   "source": [
    "# Exercise 3\n",
    "The variable \"SalePrice\" refers to the price at which a property was sold and hence is\n",
    "the variable of interest for our prediction model (\"Y\" or dependent variable). Explore\n",
    "Y in terms of:\n",
    "\n",
    "- Descriptive/summary statistics (e.g. mean, SDs, range)\n",
    "- Visualize the distribution of Y (e.g. matplotlib or seaborn)\n",
    "- Visualize the distribution of Y by looking at various subgroups (e.g. create boxplot or scatterplot using matplotlib or seaborn)\n",
    "- Look at differences between neigbourhoods\n",
    "- Look at differences between housing style\n",
    "- Draw a correlation plot to see all correlations between Y and the independent (numeric) variables (Hint: use df.plotting.scatter_matrix or seaborn.pairplot)"
   ],
   "metadata": {
    "collapsed": false,
    "pycharm": {
     "name": "#%% md\n"
    }
   }
  },
  {
   "cell_type": "code",
   "execution_count": null,
   "outputs": [],
   "source": [],
   "metadata": {
    "collapsed": false,
    "pycharm": {
     "name": "#%%\n"
    }
   }
  },
  {
   "cell_type": "markdown",
   "source": [
    "# Exercise 4\n",
    "- Estimate a LASSO model and a kNN model\n",
    "- Assess which model performs best"
   ],
   "metadata": {
    "collapsed": false,
    "pycharm": {
     "name": "#%% md\n"
    }
   }
  },
  {
   "cell_type": "code",
   "execution_count": null,
   "outputs": [],
   "source": [],
   "metadata": {
    "collapsed": false,
    "pycharm": {
     "name": "#%%\n"
    }
   }
  }
 ],
 "metadata": {
  "kernelspec": {
   "name": "pycharm-23f81767",
   "language": "python",
   "display_name": "PyCharm (ames_challenge)"
  },
  "language_info": {
   "codemirror_mode": {
    "name": "ipython",
    "version": 2
   },
   "file_extension": ".py",
   "mimetype": "text/x-python",
   "name": "python",
   "nbconvert_exporter": "python",
   "pygments_lexer": "ipython2",
   "version": "2.7.6"
  }
 },
 "nbformat": 4,
 "nbformat_minor": 0
}